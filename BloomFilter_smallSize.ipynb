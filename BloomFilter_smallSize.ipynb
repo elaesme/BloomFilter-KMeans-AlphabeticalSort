{
 "cells": [
  {
   "cell_type": "code",
   "execution_count": 9,
   "metadata": {},
   "outputs": [],
   "source": []
  },
  {
   "cell_type": "code",
   "execution_count": 12,
   "metadata": {},
   "outputs": [
    {
     "name": "stdout",
     "output_type": "stream",
     "text": [
      "96\n",
      "bitarray('0001001000001100100100000101001011111111111111111110111111111111111111111111011111111111111000010011111111111011110111101111000000110110000100000010100000010000011100000010000000001000000000101010000000100010001000010000111000001010100100011100110100')\n",
      "Number of hash function used:  2\n",
      "Number of duplicates detected:  96\n",
      "Probability of false positives:  0.1\n",
      "Execution time:  0.0012471675872802734\n"
     ]
    }
   ],
   "source": [
    "from bitarray import bitarray\n",
    "import sys\n",
    "import csv\n",
    "import numpy as np\n",
    "import time\n",
    "\n",
    "def BloomFilter(passwords1, passwords2):\n",
    "        start = time.time()\n",
    "        c=0 #count for every password2s in passwords1\n",
    "        \n",
    "    # add all passwords1 to the filter\n",
    "      \n",
    "        n=len(passwords1)  #number of elements to insert in the filter, which is the lenght of passwords1\n",
    "        p=0.1     #false positive error rate\n",
    "        m=250     #size of the filter\n",
    "        fltr= bitarray(m)\n",
    "        fltr.setall(0)\n",
    "        for i in range(len(passwords1)):\n",
    "            h1=fibo_hashing(passwords1[i][0]) % m\n",
    "            h2=encode_hash(passwords1[i][0]) % m\n",
    "            fltr[h1]=1\n",
    "            fltr[h2]=1\n",
    "    # check all passwords2 presence in the filter\n",
    "  \n",
    "        for k in range(len(passwords2)):\n",
    "            a1=fibo_hashing(passwords2[k][0]) % m\n",
    "            a2=encode_hash(passwords2[k][0]) % m\n",
    "            if fltr[a1]==1 and fltr[a2]==1:\n",
    "                c+=1\n",
    "       \n",
    "        print(c)\n",
    "        end = time.time()\n",
    "        print(fltr)\n",
    "        print('Number of hash function used: ', 2)\n",
    "        print('Number of duplicates detected: ', c)\n",
    "        print('Probability of false positives: ', p)\n",
    "        print('Execution time: ', end-start)\n",
    "    \n",
    "    \n",
    "passwords1=[]\n",
    "#we have a password every 21 characters (read() takes as argument the number of char you want to read the text)\n",
    "# so if we wnat the third password (startign from char 63) we read() 63+21 char and remove all from indx 0 to indx 63\n",
    "with open('C:/Users/Ela/Desktop/hw4/passwords1.txt', 'r') as f:\n",
    "    for i in range(200):\n",
    "        a= list(f.read((i+1)*21))[21*i:]  \n",
    "        passwords1.append(''.join(a[:-1])) #the -1 is to delete the \"\\n\" at the end of each row\n",
    "        \n",
    "passwords2=[]\n",
    "#we have a password every 21 characters (read() takes as argument the number of char you want to read the text)\n",
    "# so if we wnat the third password (startign from char 63) we read() 63+21 char and remove all from indx 0 to indx 63\n",
    "with open('C:/Users/Ela/Desktop/hw4/passwords2.txt', 'r') as f:\n",
    "    for i in range(100):\n",
    "        a= list(f.read((i+1)*21))[21*i:]  \n",
    "        passwords2.append(''.join(a[:-1])) #the -1 is to delete the \"\\n\" at the end of each row\n",
    "BloomFilter(passwords1, passwords2)"
   ]
  },
  {
   "cell_type": "code",
   "execution_count": null,
   "metadata": {},
   "outputs": [],
   "source": []
  }
 ],
 "metadata": {
  "kernelspec": {
   "display_name": "Python 3",
   "language": "python",
   "name": "python3"
  },
  "language_info": {
   "codemirror_mode": {
    "name": "ipython",
    "version": 3
   },
   "file_extension": ".py",
   "mimetype": "text/x-python",
   "name": "python",
   "nbconvert_exporter": "python",
   "pygments_lexer": "ipython3",
   "version": "3.7.4"
  }
 },
 "nbformat": 4,
 "nbformat_minor": 2
}
