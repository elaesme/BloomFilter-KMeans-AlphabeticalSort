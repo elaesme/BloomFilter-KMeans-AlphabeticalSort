{
 "cells": [
  {
   "cell_type": "code",
   "execution_count": 2,
   "metadata": {},
   "outputs": [
    {
     "ename": "NameError",
     "evalue": "name 'passwords1' is not defined",
     "output_type": "error",
     "traceback": [
      "\u001b[1;31m---------------------------------------------------------------------------\u001b[0m",
      "\u001b[1;31mNameError\u001b[0m                                 Traceback (most recent call last)",
      "\u001b[1;32m<ipython-input-2-b1afd7231b9a>\u001b[0m in \u001b[0;36m<module>\u001b[1;34m\u001b[0m\n\u001b[0;32m     31\u001b[0m     \u001b[0mprint\u001b[0m\u001b[1;33m(\u001b[0m\u001b[1;34m'Execution time: '\u001b[0m\u001b[1;33m,\u001b[0m \u001b[0mend\u001b[0m\u001b[1;33m-\u001b[0m\u001b[0mstart\u001b[0m\u001b[1;33m)\u001b[0m\u001b[1;33m\u001b[0m\u001b[1;33m\u001b[0m\u001b[0m\n\u001b[0;32m     32\u001b[0m \u001b[1;33m\u001b[0m\u001b[0m\n\u001b[1;32m---> 33\u001b[1;33m \u001b[0mBloomFilter\u001b[0m\u001b[1;33m(\u001b[0m\u001b[0mpasswords1\u001b[0m\u001b[1;33m,\u001b[0m \u001b[0mpasswords2\u001b[0m\u001b[1;33m)\u001b[0m\u001b[1;33m\u001b[0m\u001b[1;33m\u001b[0m\u001b[0m\n\u001b[0m",
      "\u001b[1;31mNameError\u001b[0m: name 'passwords1' is not defined"
     ]
    }
   ],
   "source": [
    "from bitarray import bitarray\n",
    "import sys\n",
    "import csv\n",
    "import numpy as np\n",
    "import time\n",
    "\n",
    "def BloomFilter(passwords1, passwords2):\n",
    "    start = time.time()\n",
    "    c=0 #count for every password2s in passwords1\n",
    "        \n",
    "    # add all passwords1 to the filter\n",
    "    \n",
    "    with open('C:/Users/Ela/Desktop/hw4/passwords1.txt', 'r', newline='') as output:\n",
    "        passwords1 = list(csv.reader(output, delimiter='\\t'))   \n",
    "        n=len(passwords1)  #number of elements to insert in the filter, which is the lenght of passwords1\n",
    "        p=0.1     #false positive error rate\n",
    "        m=120000000     #size of the filter\n",
    "        fltr= bitarray(m)\n",
    "        fltr.setall(0)\n",
    "        for i in range(len(passwords1)):\n",
    "            h1=fibo_hashing(passwords1[i][0]) % m   #adding every pass in passwords 1 to the filter\n",
    "            h2=encode_hash(passwords1[i][0]) % m\n",
    "            fltr[h1]=1\n",
    "            fltr[h2]=1\n",
    "    # check all passwords2 presence in the filter\n",
    "    with open('C:/Users/Ela/Desktop/hw4/passwords2.txt', 'r', newline='') as output:\n",
    "        passwords2 = list(csv.reader(output, delimiter='\\t'))\n",
    "        for k in range(len(passwords2)):\n",
    "            a1=fibo_hashing(passwords2[k][0]) % m\n",
    "            a2=encode_hash(passwords2[k][0]) % m\n",
    "            if fltr[a1]==1 and fltr[a2]==1:\n",
    "                c+=1\n",
    "       \n",
    "        print(c)\n",
    "        end = time.time()\n",
    "        print(fltr)\n",
    "        print('Number of hash function used: ', k)\n",
    "        print('Number of duplicates detected: ', c)\n",
    "        print('Probability of false positives: ', p)\n",
    "        print('Execution time: ', end-start)\n",
    "    \n",
    "BloomFilter(passwords1, passwords2)"
   ]
  },
  {
   "cell_type": "code",
   "execution_count": null,
   "metadata": {},
   "outputs": [],
   "source": []
  }
 ],
 "metadata": {
  "kernelspec": {
   "display_name": "Python 3",
   "language": "python",
   "name": "python3"
  },
  "language_info": {
   "codemirror_mode": {
    "name": "ipython",
    "version": 3
   },
   "file_extension": ".py",
   "mimetype": "text/x-python",
   "name": "python",
   "nbconvert_exporter": "python",
   "pygments_lexer": "ipython3",
   "version": "3.7.4"
  }
 },
 "nbformat": 4,
 "nbformat_minor": 2
}
